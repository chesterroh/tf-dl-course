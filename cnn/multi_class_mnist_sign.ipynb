{
 "cells": [
  {
   "cell_type": "code",
   "execution_count": 1,
   "metadata": {},
   "outputs": [],
   "source": [
    "import csv\n",
    "import numpy as np\n",
    "import tensorflow as tf\n",
    "from tensorflow.keras.preprocessing.image import ImageDataGenerator\n"
   ]
  },
  {
   "cell_type": "code",
   "execution_count": 2,
   "metadata": {},
   "outputs": [],
   "source": [
    "def get_data(filename):\n",
    "    x = np.genfromtxt(filename, delimiter=',')\n",
    "    x = x[1:]  # chop the 1st line \n",
    "    labels = x[:,0]\n",
    "    images = x[:,1:].reshape(-1,28,28).astype('float32')\n",
    "    return images, labels\n",
    "    "
   ]
  },
  {
   "cell_type": "code",
   "execution_count": 3,
   "metadata": {},
   "outputs": [],
   "source": [
    "\n",
    "training_images, training_labels = get_data('./sign_mnist/sign_mnist_train.csv')\n",
    "testing_images, testing_labels = get_data('./sign_mnist/sign_mnist_test.csv')"
   ]
  },
  {
   "cell_type": "code",
   "execution_count": 4,
   "metadata": {},
   "outputs": [
    {
     "name": "stdout",
     "output_type": "stream",
     "text": [
      "(27455, 28, 28)\n",
      "(27455,)\n",
      "(7172, 28, 28)\n",
      "(7172,)\n"
     ]
    }
   ],
   "source": [
    "print(training_images.shape)\n",
    "print(training_labels.shape)\n",
    "print(testing_images.shape)\n",
    "print(testing_labels.shape)"
   ]
  },
  {
   "cell_type": "code",
   "execution_count": 5,
   "metadata": {},
   "outputs": [
    {
     "data": {
      "text/plain": [
       "24.0"
      ]
     },
     "execution_count": 5,
     "metadata": {},
     "output_type": "execute_result"
    }
   ],
   "source": [
    "np.min(testing_labels)\n",
    "np.max(testing_labels)"
   ]
  },
  {
   "cell_type": "code",
   "execution_count": 6,
   "metadata": {},
   "outputs": [
    {
     "name": "stdout",
     "output_type": "stream",
     "text": [
      "(27455, 28, 28, 1)\n",
      "(7172, 28, 28, 1)\n"
     ]
    }
   ],
   "source": [
    "training_images = training_images.reshape(-1,28,28,1)\n",
    "testing_images = testing_images.reshape(-1,28,28,1)\n",
    "\n",
    "train_datagen = ImageDataGenerator(rescale=1./255.,\n",
    "                                   rotation_range = 40,\n",
    "                                    width_shift_range = 0.2, \n",
    "                                    height_shift_range = 0.2,\n",
    "                                    shear_range = 0.2,\n",
    "                                    zoom_range = 0.2,\n",
    "                                    horizontal_flip = True,\n",
    "                                    fill_mode = 'nearest')\n",
    "\n",
    "test_datagen = ImageDataGenerator(rescale=1./255.)\n",
    "\n",
    "train_generator = train_datagen.flow(training_images, training_labels, batch_size = 32)\n",
    "test_generator = test_datagen.flow(testing_images, testing_labels, batch_size = 32)\n",
    "\n",
    "print(training_images.shape)\n",
    "print(testing_images.shape)"
   ]
  },
  {
   "cell_type": "code",
   "execution_count": 7,
   "metadata": {},
   "outputs": [],
   "source": [
    "model = tf.keras.models.Sequential([\n",
    "    tf.keras.layers.Conv2D(64, (3,3), activation='relu', input_shape=(28,28,1)),\n",
    "    tf.keras.layers.MaxPooling2D(2,2),\n",
    "    tf.keras.layers.Conv2D(128, (2,2), activation='relu'),\n",
    "    tf.keras.layers.MaxPooling2D(2,2),\n",
    "    tf.keras.layers.Flatten(),\n",
    "    tf.keras.layers.Dense(512, activation='relu'),\n",
    "    tf.keras.layers.Dense(26, activation='softmax')\n",
    "])"
   ]
  },
  {
   "cell_type": "code",
   "execution_count": 8,
   "metadata": {},
   "outputs": [
    {
     "name": "stdout",
     "output_type": "stream",
     "text": [
      "Model: \"sequential\"\n",
      "_________________________________________________________________\n",
      "Layer (type)                 Output Shape              Param #   \n",
      "=================================================================\n",
      "conv2d (Conv2D)              (None, 26, 26, 64)        640       \n",
      "_________________________________________________________________\n",
      "max_pooling2d (MaxPooling2D) (None, 13, 13, 64)        0         \n",
      "_________________________________________________________________\n",
      "conv2d_1 (Conv2D)            (None, 12, 12, 128)       32896     \n",
      "_________________________________________________________________\n",
      "max_pooling2d_1 (MaxPooling2 (None, 6, 6, 128)         0         \n",
      "_________________________________________________________________\n",
      "flatten (Flatten)            (None, 4608)              0         \n",
      "_________________________________________________________________\n",
      "dense (Dense)                (None, 512)               2359808   \n",
      "_________________________________________________________________\n",
      "dense_1 (Dense)              (None, 26)                13338     \n",
      "=================================================================\n",
      "Total params: 2,406,682\n",
      "Trainable params: 2,406,682\n",
      "Non-trainable params: 0\n",
      "_________________________________________________________________\n"
     ]
    }
   ],
   "source": [
    "\n",
    "model.summary()"
   ]
  },
  {
   "cell_type": "code",
   "execution_count": 9,
   "metadata": {},
   "outputs": [],
   "source": [
    "model.compile(loss='sparse_categorical_crossentropy', optimizer='adam', metrics=['acc'])"
   ]
  },
  {
   "cell_type": "code",
   "execution_count": 10,
   "metadata": {},
   "outputs": [
    {
     "name": "stdout",
     "output_type": "stream",
     "text": [
      "WARNING:tensorflow:From <ipython-input-10-c52eb41a2814>:1: Model.fit_generator (from tensorflow.python.keras.engine.training) is deprecated and will be removed in a future version.\n",
      "Instructions for updating:\n",
      "Please use Model.fit, which supports generators.\n",
      "WARNING:tensorflow:sample_weight modes were coerced from\n",
      "  ...\n",
      "    to  \n",
      "  ['...']\n",
      "WARNING:tensorflow:sample_weight modes were coerced from\n",
      "  ...\n",
      "    to  \n",
      "  ['...']\n",
      "Train for 857 steps, validate for 858 steps\n",
      "Epoch 1/100\n",
      "857/857 [==============================] - 20s 24ms/step - loss: 2.5700 - acc: 0.2118 - val_loss: 1.9904 - val_acc: 0.3765\n",
      "Epoch 2/100\n",
      "857/857 [==============================] - 19s 22ms/step - loss: 1.6658 - acc: 0.4617 - val_loss: 1.4120 - val_acc: 0.5343\n",
      "Epoch 3/100\n",
      "857/857 [==============================] - 19s 22ms/step - loss: 1.2415 - acc: 0.5915 - val_loss: 1.1280 - val_acc: 0.6154\n",
      "Epoch 4/100\n",
      "857/857 [==============================] - 18s 21ms/step - loss: 1.0112 - acc: 0.6659 - val_loss: 0.8916 - val_acc: 0.6967\n",
      "Epoch 5/100\n",
      "857/857 [==============================] - 19s 22ms/step - loss: 0.8224 - acc: 0.7248 - val_loss: 0.7390 - val_acc: 0.7522\n",
      "Epoch 6/100\n",
      "857/857 [==============================] - 19s 22ms/step - loss: 0.7187 - acc: 0.7619 - val_loss: 0.6148 - val_acc: 0.7947\n",
      "Epoch 7/100\n",
      "857/857 [==============================] - 19s 22ms/step - loss: 0.6278 - acc: 0.7870 - val_loss: 0.5952 - val_acc: 0.7937\n",
      "Epoch 8/100\n",
      "857/857 [==============================] - 18s 22ms/step - loss: 0.5623 - acc: 0.8125 - val_loss: 0.5060 - val_acc: 0.8289\n",
      "Epoch 9/100\n",
      "857/857 [==============================] - 19s 22ms/step - loss: 0.4978 - acc: 0.8351 - val_loss: 0.4666 - val_acc: 0.8423\n",
      "Epoch 10/100\n",
      "857/857 [==============================] - 19s 22ms/step - loss: 0.4578 - acc: 0.8472 - val_loss: 0.4382 - val_acc: 0.8514\n",
      "Epoch 11/100\n",
      "857/857 [==============================] - 19s 22ms/step - loss: 0.4324 - acc: 0.8564 - val_loss: 0.3957 - val_acc: 0.8669\n",
      "Epoch 12/100\n",
      "857/857 [==============================] - 19s 22ms/step - loss: 0.3946 - acc: 0.8682 - val_loss: 0.3823 - val_acc: 0.8705\n",
      "Epoch 13/100\n",
      "857/857 [==============================] - 19s 22ms/step - loss: 0.3588 - acc: 0.8781 - val_loss: 0.3451 - val_acc: 0.8859\n",
      "Epoch 14/100\n",
      "857/857 [==============================] - 19s 22ms/step - loss: 0.3502 - acc: 0.8832 - val_loss: 0.3124 - val_acc: 0.8960\n",
      "Epoch 15/100\n",
      "857/857 [==============================] - 19s 22ms/step - loss: 0.3169 - acc: 0.8938 - val_loss: 0.2954 - val_acc: 0.9014\n",
      "Epoch 16/100\n",
      "857/857 [==============================] - 19s 22ms/step - loss: 0.3177 - acc: 0.8942 - val_loss: 0.2805 - val_acc: 0.9078\n",
      "Epoch 17/100\n",
      "857/857 [==============================] - 19s 22ms/step - loss: 0.2925 - acc: 0.9020 - val_loss: 0.2711 - val_acc: 0.9073\n",
      "Epoch 18/100\n",
      "857/857 [==============================] - 19s 22ms/step - loss: 0.2774 - acc: 0.9058 - val_loss: 0.2561 - val_acc: 0.9142\n",
      "Epoch 19/100\n",
      "857/857 [==============================] - 19s 22ms/step - loss: 0.2700 - acc: 0.9116 - val_loss: 0.2509 - val_acc: 0.9160\n",
      "Epoch 20/100\n",
      "857/857 [==============================] - 19s 22ms/step - loss: 0.2559 - acc: 0.9152 - val_loss: 0.2620 - val_acc: 0.9131\n",
      "Epoch 21/100\n",
      "857/857 [==============================] - 19s 22ms/step - loss: 0.2478 - acc: 0.9178 - val_loss: 0.2270 - val_acc: 0.9235\n",
      "Epoch 22/100\n",
      "857/857 [==============================] - 19s 22ms/step - loss: 0.2422 - acc: 0.9220 - val_loss: 0.2337 - val_acc: 0.9238\n",
      "Epoch 23/100\n",
      "857/857 [==============================] - 19s 22ms/step - loss: 0.2207 - acc: 0.9255 - val_loss: 0.2385 - val_acc: 0.9203\n",
      "Epoch 24/100\n",
      "857/857 [==============================] - 19s 22ms/step - loss: 0.2247 - acc: 0.9241 - val_loss: 0.2312 - val_acc: 0.9207\n",
      "Epoch 25/100\n",
      "857/857 [==============================] - 19s 22ms/step - loss: 0.2097 - acc: 0.9313 - val_loss: 0.2162 - val_acc: 0.9280\n",
      "Epoch 26/100\n",
      "857/857 [==============================] - 19s 22ms/step - loss: 0.2110 - acc: 0.9294 - val_loss: 0.1894 - val_acc: 0.9362\n",
      "Epoch 27/100\n",
      "857/857 [==============================] - 19s 22ms/step - loss: 0.1963 - acc: 0.9352 - val_loss: 0.2089 - val_acc: 0.9266\n",
      "Epoch 28/100\n",
      "857/857 [==============================] - 18s 22ms/step - loss: 0.1954 - acc: 0.9351 - val_loss: 0.1993 - val_acc: 0.9335\n",
      "Epoch 29/100\n",
      "857/857 [==============================] - 18s 21ms/step - loss: 0.1864 - acc: 0.9371 - val_loss: 0.1976 - val_acc: 0.9331\n",
      "Epoch 30/100\n",
      "857/857 [==============================] - 18s 21ms/step - loss: 0.1856 - acc: 0.9392 - val_loss: 0.1803 - val_acc: 0.9384\n",
      "Epoch 31/100\n",
      "857/857 [==============================] - 19s 22ms/step - loss: 0.1831 - acc: 0.9401 - val_loss: 0.1939 - val_acc: 0.9349\n",
      "Epoch 32/100\n",
      "857/857 [==============================] - 19s 22ms/step - loss: 0.1814 - acc: 0.9395 - val_loss: 0.1813 - val_acc: 0.9392\n",
      "Epoch 33/100\n",
      "857/857 [==============================] - 19s 22ms/step - loss: 0.1652 - acc: 0.9452 - val_loss: 0.1693 - val_acc: 0.9419\n",
      "Epoch 34/100\n",
      "857/857 [==============================] - 19s 22ms/step - loss: 0.1778 - acc: 0.9421 - val_loss: 0.1573 - val_acc: 0.9476\n",
      "Epoch 35/100\n",
      "857/857 [==============================] - 18s 22ms/step - loss: 0.1700 - acc: 0.9439 - val_loss: 0.1520 - val_acc: 0.9504\n",
      "Epoch 36/100\n",
      "857/857 [==============================] - 19s 22ms/step - loss: 0.1655 - acc: 0.9440 - val_loss: 0.1574 - val_acc: 0.9485\n",
      "Epoch 37/100\n",
      "857/857 [==============================] - 19s 22ms/step - loss: 0.1540 - acc: 0.9488 - val_loss: 0.1675 - val_acc: 0.9431\n",
      "Epoch 38/100\n",
      "857/857 [==============================] - 19s 22ms/step - loss: 0.1488 - acc: 0.9502 - val_loss: 0.1580 - val_acc: 0.9490\n",
      "Epoch 39/100\n",
      "857/857 [==============================] - 19s 22ms/step - loss: 0.1488 - acc: 0.9505 - val_loss: 0.1514 - val_acc: 0.9497\n",
      "Epoch 40/100\n",
      "857/857 [==============================] - 19s 22ms/step - loss: 0.1466 - acc: 0.9502 - val_loss: 0.1579 - val_acc: 0.9480\n",
      "Epoch 41/100\n",
      "857/857 [==============================] - 19s 22ms/step - loss: 0.1518 - acc: 0.9503 - val_loss: 0.1400 - val_acc: 0.9523\n",
      "Epoch 42/100\n",
      "857/857 [==============================] - 18s 21ms/step - loss: 0.1471 - acc: 0.9528 - val_loss: 0.1486 - val_acc: 0.9507\n",
      "Epoch 43/100\n",
      "857/857 [==============================] - 18s 22ms/step - loss: 0.1349 - acc: 0.9550 - val_loss: 0.1617 - val_acc: 0.9472\n",
      "Epoch 44/100\n",
      "857/857 [==============================] - 19s 22ms/step - loss: 0.1360 - acc: 0.9548 - val_loss: 0.1304 - val_acc: 0.9563\n",
      "Epoch 45/100\n",
      "857/857 [==============================] - 19s 22ms/step - loss: 0.1324 - acc: 0.9564 - val_loss: 0.1183 - val_acc: 0.9618\n",
      "Epoch 46/100\n",
      "857/857 [==============================] - 19s 22ms/step - loss: 0.1333 - acc: 0.9552 - val_loss: 0.1454 - val_acc: 0.9512\n",
      "Epoch 47/100\n",
      "857/857 [==============================] - 19s 22ms/step - loss: 0.1369 - acc: 0.9552 - val_loss: 0.1416 - val_acc: 0.9550\n",
      "Epoch 48/100\n",
      "857/857 [==============================] - 19s 22ms/step - loss: 0.1253 - acc: 0.9591 - val_loss: 0.1240 - val_acc: 0.9576\n",
      "Epoch 49/100\n",
      "857/857 [==============================] - 19s 22ms/step - loss: 0.1265 - acc: 0.9585 - val_loss: 0.1332 - val_acc: 0.9565\n",
      "Epoch 50/100\n",
      "857/857 [==============================] - 20s 23ms/step - loss: 0.1190 - acc: 0.9599 - val_loss: 0.1190 - val_acc: 0.9605\n",
      "Epoch 51/100\n",
      "857/857 [==============================] - 19s 22ms/step - loss: 0.1292 - acc: 0.9576 - val_loss: 0.1361 - val_acc: 0.9554\n",
      "Epoch 52/100\n",
      "857/857 [==============================] - 19s 22ms/step - loss: 0.1166 - acc: 0.9605 - val_loss: 0.1157 - val_acc: 0.9614\n",
      "Epoch 53/100\n",
      "857/857 [==============================] - 19s 22ms/step - loss: 0.1131 - acc: 0.9623 - val_loss: 0.1118 - val_acc: 0.9634\n",
      "Epoch 54/100\n",
      "857/857 [==============================] - 19s 22ms/step - loss: 0.1216 - acc: 0.9608 - val_loss: 0.1247 - val_acc: 0.9589\n",
      "Epoch 55/100\n",
      "857/857 [==============================] - 19s 23ms/step - loss: 0.1167 - acc: 0.9627 - val_loss: 0.1164 - val_acc: 0.9628\n",
      "Epoch 56/100\n",
      "857/857 [==============================] - 18s 21ms/step - loss: 0.1195 - acc: 0.9603 - val_loss: 0.1138 - val_acc: 0.9630\n",
      "Epoch 57/100\n",
      "857/857 [==============================] - 19s 22ms/step - loss: 0.1170 - acc: 0.9608 - val_loss: 0.1044 - val_acc: 0.9643\n"
     ]
    },
    {
     "name": "stdout",
     "output_type": "stream",
     "text": [
      "Epoch 58/100\n",
      "857/857 [==============================] - 19s 22ms/step - loss: 0.1167 - acc: 0.9613 - val_loss: 0.0959 - val_acc: 0.9696\n",
      "Epoch 59/100\n",
      "857/857 [==============================] - 18s 21ms/step - loss: 0.1055 - acc: 0.9651 - val_loss: 0.1065 - val_acc: 0.9650\n",
      "Epoch 60/100\n",
      "857/857 [==============================] - 18s 21ms/step - loss: 0.1119 - acc: 0.9629 - val_loss: 0.0973 - val_acc: 0.9689\n",
      "Epoch 61/100\n",
      "857/857 [==============================] - 19s 23ms/step - loss: 0.1219 - acc: 0.9608 - val_loss: 0.1068 - val_acc: 0.9645\n",
      "Epoch 62/100\n",
      "857/857 [==============================] - 19s 22ms/step - loss: 0.1056 - acc: 0.9640 - val_loss: 0.1162 - val_acc: 0.9615\n",
      "Epoch 63/100\n",
      "857/857 [==============================] - 19s 22ms/step - loss: 0.1131 - acc: 0.9630 - val_loss: 0.0948 - val_acc: 0.9673\n",
      "Epoch 64/100\n",
      "857/857 [==============================] - 18s 22ms/step - loss: 0.1040 - acc: 0.9657 - val_loss: 0.0808 - val_acc: 0.9732\n",
      "Epoch 65/100\n",
      "857/857 [==============================] - 19s 22ms/step - loss: 0.1036 - acc: 0.9658 - val_loss: 0.1122 - val_acc: 0.9619\n",
      "Epoch 66/100\n",
      "857/857 [==============================] - 19s 22ms/step - loss: 0.1033 - acc: 0.9656 - val_loss: 0.0927 - val_acc: 0.9694\n",
      "Epoch 67/100\n",
      "857/857 [==============================] - 20s 23ms/step - loss: 0.1005 - acc: 0.9677 - val_loss: 0.0864 - val_acc: 0.9720\n",
      "Epoch 68/100\n",
      "857/857 [==============================] - 18s 21ms/step - loss: 0.1011 - acc: 0.9673 - val_loss: 0.1028 - val_acc: 0.9667\n",
      "Epoch 69/100\n",
      "857/857 [==============================] - 19s 22ms/step - loss: 0.1004 - acc: 0.9681 - val_loss: 0.0998 - val_acc: 0.9672\n",
      "Epoch 70/100\n",
      "857/857 [==============================] - 19s 22ms/step - loss: 0.0976 - acc: 0.9684 - val_loss: 0.1040 - val_acc: 0.9667\n",
      "Epoch 71/100\n",
      "857/857 [==============================] - 18s 21ms/step - loss: 0.0965 - acc: 0.9679 - val_loss: 0.0963 - val_acc: 0.9673\n",
      "Epoch 72/100\n",
      "857/857 [==============================] - 19s 22ms/step - loss: 0.1040 - acc: 0.9669 - val_loss: 0.0961 - val_acc: 0.9681\n",
      "Epoch 73/100\n",
      "857/857 [==============================] - 19s 22ms/step - loss: 0.0935 - acc: 0.9684 - val_loss: 0.0859 - val_acc: 0.9713\n",
      "Epoch 74/100\n",
      "857/857 [==============================] - 19s 22ms/step - loss: 0.0957 - acc: 0.9682 - val_loss: 0.0917 - val_acc: 0.9695\n",
      "Epoch 75/100\n",
      "857/857 [==============================] - 19s 22ms/step - loss: 0.0924 - acc: 0.9698 - val_loss: 0.1072 - val_acc: 0.9641\n",
      "Epoch 76/100\n",
      "857/857 [==============================] - 19s 22ms/step - loss: 0.0967 - acc: 0.9692 - val_loss: 0.0860 - val_acc: 0.9715\n",
      "Epoch 77/100\n",
      "857/857 [==============================] - 19s 22ms/step - loss: 0.0923 - acc: 0.9698 - val_loss: 0.1100 - val_acc: 0.9654\n",
      "Epoch 78/100\n",
      "857/857 [==============================] - 19s 22ms/step - loss: 0.0934 - acc: 0.9685 - val_loss: 0.1010 - val_acc: 0.9671\n",
      "Epoch 79/100\n",
      "857/857 [==============================] - 19s 22ms/step - loss: 0.0880 - acc: 0.9713 - val_loss: 0.1082 - val_acc: 0.9660\n",
      "Epoch 80/100\n",
      "857/857 [==============================] - 18s 21ms/step - loss: 0.0867 - acc: 0.9714 - val_loss: 0.0837 - val_acc: 0.9715\n",
      "Epoch 81/100\n",
      "857/857 [==============================] - 19s 22ms/step - loss: 0.0815 - acc: 0.9740 - val_loss: 0.1001 - val_acc: 0.9686\n",
      "Epoch 82/100\n",
      "857/857 [==============================] - 19s 22ms/step - loss: 0.0904 - acc: 0.9711 - val_loss: 0.0839 - val_acc: 0.9722\n",
      "Epoch 83/100\n",
      "857/857 [==============================] - 19s 22ms/step - loss: 0.1004 - acc: 0.9684 - val_loss: 0.0970 - val_acc: 0.9693\n",
      "Epoch 84/100\n",
      "857/857 [==============================] - 19s 23ms/step - loss: 0.0868 - acc: 0.9720 - val_loss: 0.1063 - val_acc: 0.9658\n",
      "Epoch 85/100\n",
      "857/857 [==============================] - 19s 22ms/step - loss: 0.0861 - acc: 0.9719 - val_loss: 0.0783 - val_acc: 0.9745\n",
      "Epoch 86/100\n",
      "857/857 [==============================] - 19s 22ms/step - loss: 0.0882 - acc: 0.9712 - val_loss: 0.0750 - val_acc: 0.9746\n",
      "Epoch 87/100\n",
      "857/857 [==============================] - 19s 22ms/step - loss: 0.0854 - acc: 0.9712 - val_loss: 0.0906 - val_acc: 0.9684\n",
      "Epoch 88/100\n",
      "857/857 [==============================] - 19s 22ms/step - loss: 0.0782 - acc: 0.9750 - val_loss: 0.0846 - val_acc: 0.9722\n",
      "Epoch 89/100\n",
      "857/857 [==============================] - 19s 22ms/step - loss: 0.0877 - acc: 0.9719 - val_loss: 0.0746 - val_acc: 0.9768\n",
      "Epoch 90/100\n",
      "857/857 [==============================] - 19s 23ms/step - loss: 0.0814 - acc: 0.9728 - val_loss: 0.1005 - val_acc: 0.9666\n",
      "Epoch 91/100\n",
      "857/857 [==============================] - 19s 22ms/step - loss: 0.0854 - acc: 0.9724 - val_loss: 0.0805 - val_acc: 0.9748\n",
      "Epoch 92/100\n",
      "857/857 [==============================] - 18s 21ms/step - loss: 0.0829 - acc: 0.9724 - val_loss: 0.0747 - val_acc: 0.9758\n",
      "Epoch 93/100\n",
      "857/857 [==============================] - 18s 21ms/step - loss: 0.0838 - acc: 0.9741 - val_loss: 0.0911 - val_acc: 0.9693\n",
      "Epoch 94/100\n",
      "857/857 [==============================] - 18s 21ms/step - loss: 0.0818 - acc: 0.9740 - val_loss: 0.0721 - val_acc: 0.9757\n",
      "Epoch 95/100\n",
      "857/857 [==============================] - 19s 22ms/step - loss: 0.0849 - acc: 0.9725 - val_loss: 0.0799 - val_acc: 0.9748\n",
      "Epoch 96/100\n",
      "857/857 [==============================] - 19s 22ms/step - loss: 0.0831 - acc: 0.9734 - val_loss: 0.0772 - val_acc: 0.9753\n",
      "Epoch 97/100\n",
      "857/857 [==============================] - 19s 22ms/step - loss: 0.0825 - acc: 0.9734 - val_loss: 0.0687 - val_acc: 0.9778\n",
      "Epoch 98/100\n",
      "857/857 [==============================] - 19s 22ms/step - loss: 0.0735 - acc: 0.9748 - val_loss: 0.0725 - val_acc: 0.9762\n",
      "Epoch 99/100\n",
      "857/857 [==============================] - 19s 22ms/step - loss: 0.0718 - acc: 0.9759 - val_loss: 0.0768 - val_acc: 0.9762\n",
      "Epoch 100/100\n",
      "857/857 [==============================] - 19s 22ms/step - loss: 0.0783 - acc: 0.9750 - val_loss: 0.0730 - val_acc: 0.9773\n"
     ]
    }
   ],
   "source": [
    "history = model.fit_generator(train_generator, validation_data = train_generator, steps_per_epoch = len(training_images)//32, epochs=100 )"
   ]
  },
  {
   "cell_type": "code",
   "execution_count": 13,
   "metadata": {},
   "outputs": [
    {
     "name": "stdout",
     "output_type": "stream",
     "text": [
      "7172/7172 [==============================] - 1s 72us/sample - loss: 0.0472 - acc: 0.9837\n"
     ]
    },
    {
     "data": {
      "text/plain": [
       "[0.047201370389900146, 0.98368657]"
      ]
     },
     "execution_count": 13,
     "metadata": {},
     "output_type": "execute_result"
    }
   ],
   "source": [
    "model.evaluate(testing_images/255.0, testing_labels)"
   ]
  },
  {
   "cell_type": "code",
   "execution_count": 14,
   "metadata": {},
   "outputs": [
    {
     "data": {
      "image/png": "[encoded data removed]",
      "text/plain": [
       "<Figure size 432x288 with 1 Axes>"
      ]
     },
     "metadata": {
      "needs_background": "light"
     },
     "output_type": "display_data"
    },
    {
     "data": {
      "image/png": "[encoded data removed]",
      "text/plain": [
       "<Figure size 432x288 with 1 Axes>"
      ]
     },
     "metadata": {
      "needs_background": "light"
     },
     "output_type": "display_data"
    }
   ],
   "source": [
    "# Plot the chart for accuracy and loss on both training and validation\n",
    "\n",
    "import matplotlib.pyplot as plt\n",
    "acc = history.history['acc']\n",
    "val_acc = history.history['val_acc']\n",
    "loss = history.history['loss']\n",
    "val_loss = history.history['val_loss']\n",
    "\n",
    "epochs = range(len(acc))\n",
    "\n",
    "plt.plot(epochs, acc, 'r', label='Training accuracy')\n",
    "plt.plot(epochs, val_acc, 'b', label='Validation accuracy')\n",
    "plt.title('Training and validation accuracy')\n",
    "plt.legend()\n",
    "plt.figure()\n",
    "\n",
    "plt.plot(epochs, loss, 'r', label='Training Loss')\n",
    "plt.plot(epochs, val_loss, 'b', label='Validation Loss')\n",
    "plt.title('Training and validation loss')\n",
    "plt.legend()\n",
    "\n",
    "plt.show()"
   ]
  },
  {
   "cell_type": "code",
   "execution_count": 16,
   "metadata": {},
   "outputs": [
    {
     "data": {
      "text/plain": [
       "'2.1.0'"
      ]
     },
     "execution_count": 16,
     "metadata": {},
     "output_type": "execute_result"
    }
   ],
   "source": [
    "tf.__version__"
   ]
  },
  {
   "cell_type": "code",
   "execution_count": null,
   "metadata": {},
   "outputs": [],
   "source": []
  }
 ],
 "metadata": {
  "kernelspec": {
   "display_name": "Python 3",
   "language": "python",
   "name": "python3"
  },
  "language_info": {
   "codemirror_mode": {
    "name": "ipython",
    "version": 3
   },
   "file_extension": ".py",
   "mimetype": "text/x-python",
   "name": "python",
   "nbconvert_exporter": "python",
   "pygments_lexer": "ipython3",
   "version": "3.6.9"
  }
 },
 "nbformat": 4,
 "nbformat_minor": 4
}
